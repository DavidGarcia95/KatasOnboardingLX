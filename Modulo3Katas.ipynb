{
 "cells": [
  {
   "cell_type": "markdown",
   "metadata": {},
   "source": [
    "# Ejercicio - Escribir declaraciones if, else, y elif\n",
    "Para este ejercicio, escribirás una lógica condicional que imprima una advertencia si un asteroide se acerca a la Tierra demasiado rápido. La velocidad del asteroide varía dependiendo de lo cerca que esté del sol, y cualquier velocidad superior a 25 kilómetros por segundo (km/s) merece una advertencia.\n",
    "\n",
    "Un asteroide se acerca, y viaja a una velocidad de 49 km/s."
   ]
  },
  {
   "cell_type": "code",
   "execution_count": null,
   "metadata": {},
   "outputs": [],
   "source": [
    "asteroide = 49\n",
    "advertencia = 25\n",
    "\n",
    "if asteroide > advertencia:\n",
    "    print(\"!Advertencia se acerca un asteroide a \" + str(asteroide) + \"Km/s!\")\n",
    "else:\n",
    "    print(\"Tranquilo, no corremos peligro\")"
   ]
  },
  {
   "cell_type": "markdown",
   "metadata": {},
   "source": [
    "Si un asteroide entra en la atmósfera de la Tierra a una velocidad mayor o igual a 20 km/s, a veces produce un rayo de luz que se puede ver desde la Tierra. Escribe la lógica condicional que usa declaraciones if, else, y elif para alertar a las personas de todo el mundo que deben buscar un asteroide en el cielo. ¡Hay uno que se dirige a la tierra ahora a una velocidad de 19 km/s!"
   ]
  },
  {
   "cell_type": "code",
   "execution_count": null,
   "metadata": {},
   "outputs": [],
   "source": [
    "asteroide = 19\n",
    "rayodeluz = 20\n",
    "\n",
    "if asteroide > rayodeluz:\n",
    "    print(\"!Busca el rayo de luz en el cielo se aproxima un asteroide!\")\n",
    "elif asteroide == rayodeluz:\n",
    "    print(\"!Busca el rayo de luz en el cielo se aproxima un asteroide!\")\n",
    "else:\n",
    "    print(\"Tranquilo, no corremos peligro\")\n"
   ]
  },
  {
   "cell_type": "markdown",
   "metadata": {},
   "source": [
    "En este ejercicio, aprenderás información más matizada sobre cuándo los asteroides representan un peligro para la Tierra, y utilizarás esa información para mejorar nuestro sistema de advertencia. Aquí está la nueva información que necesitas saber:\n",
    "\n",
    "*Los asteroides de menos de 25 metros en su dimensión más grande probablemente se quemarán a medida que entren en la atmósfera de la Tierra.\n",
    "\n",
    "Si una pieza de un asteroide que es más grande que 25 metros pero más pequeña que 1000 metros golpeara la Tierra, causaría mucho daño.\n",
    "También discutimos en el ejercicio anterior que:\n",
    "\n",
    "La velocidad del asteroide varía en función de lo cerca que esté del sol, y cualquier velocidad superior a 25 kilómetros por segundo (km/s) merece una advertencia.\n",
    "Si un asteroide entra en la atmósfera de la Tierra a una velocidad mayor o igual a 20 km/s, a veces produce un rayo de luz que se puede ver desde la Tierra.\n",
    "Usando toda esta información, escribe un programa que emita la advertencia o información correcta a la gente de la Tierra, según la velocidad y el tamaño de un asteroide. Utiliza instrucciones if, else, y elif, así como los operadores and y or."
   ]
  },
  {
   "cell_type": "code",
   "execution_count": 1,
   "metadata": {},
   "outputs": [
    {
     "name": "stdout",
     "output_type": "stream",
     "text": [
      "!Advertencia se acerca un asteroide a 555Km/s!, este causará mucho daño a la Tierra, puedes buscarlo por el rayo de luz en el cielo\n"
     ]
    }
   ],
   "source": [
    "asteroide = int(input(\"Ingresa la velocidad del asteroide: \" ))\n",
    "advertencia = 25\n",
    "rayodeluz = 20\n",
    "dimension = int(input(\"Ingresa la dimension del asteroide: \"))\n",
    "\n",
    "if asteroide > advertencia and dimension < 25:\n",
    "    print(\"!Advertencia se acerca un asteroide a \" + str(asteroide) + \"Km/s!, puedes buscarlo por el rayo de luz en el cielo, pero este se quemará a medida que entre en la atmósfera Terrestre\")\n",
    "elif asteroide > advertencia and dimension >= 25:\n",
    "    print (\"!Advertencia se acerca un asteroide a \" + str(asteroide) + \"Km/s!, este causará mucho daño a la Tierra, puedes buscarlo por el rayo de luz en el cielo\")\n",
    "elif asteroide >= rayodeluz and dimension < 25:\n",
    "    print(\"!Busca en el cielo un rayo de luz, es un asteroide que se desintegrará a medida que entre a la atmosfera\")\n",
    "elif asteroide >= rayodeluz and dimension >= 25:\n",
    "    print(\"!Advertencia un asteroide peligroso se acerca, puedes buscar un rayo de luz en el cielo!\")\n",
    "elif asteroide < rayodeluz and dimension >= 25:\n",
    "    print(\"Se acerca lentamente un gran asteroide a la Tierra\")\n",
    "elif asteroide < rayodeluz and dimension < 25:\n",
    "    print(\"Tranquilo, no corremos peligro\")\n"
   ]
  }
 ],
 "metadata": {
  "interpreter": {
   "hash": "6e82c4c6859ff44c5ac5d0b812fe5a23106e52b81a5db5555ef903c501738654"
  },
  "kernelspec": {
   "display_name": "Python 3.10.2 64-bit",
   "language": "python",
   "name": "python3"
  },
  "language_info": {
   "codemirror_mode": {
    "name": "ipython",
    "version": 3
   },
   "file_extension": ".py",
   "mimetype": "text/x-python",
   "name": "python",
   "nbconvert_exporter": "python",
   "pygments_lexer": "ipython3",
   "version": "3.10.2"
  },
  "orig_nbformat": 4
 },
 "nbformat": 4,
 "nbformat_minor": 2
}
